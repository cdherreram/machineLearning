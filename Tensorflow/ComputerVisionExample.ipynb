{
  "nbformat": 4,
  "nbformat_minor": 0,
  "metadata": {
    "colab": {
      "name": "ComputerVisionExample.ipynb",
      "provenance": [],
      "authorship_tag": "ABX9TyNDcxaoK7VHMkpv8aSPsS8p",
      "include_colab_link": true
    },
    "kernelspec": {
      "name": "python3",
      "display_name": "Python 3"
    }
  },
  "cells": [
    {
      "cell_type": "markdown",
      "metadata": {
        "id": "view-in-github",
        "colab_type": "text"
      },
      "source": [
        "<a href=\"https://colab.research.google.com/github/cdherreram/machinelearning/blob/master/Tensorflow/ComputerVisionExample.ipynb\" target=\"_parent\"><img src=\"https://colab.research.google.com/assets/colab-badge.svg\" alt=\"Open In Colab\"/></a>"
      ]
    },
    {
      "cell_type": "markdown",
      "metadata": {
        "id": "Q2mBmVEB3UOM"
      },
      "source": [
        "**Un ejemplo de Computer Vision**"
      ]
    },
    {
      "cell_type": "markdown",
      "metadata": {
        "id": "femHlPNU3ZoH"
      },
      "source": [
        "Primero, importamos las librerías que necesitamos en este proyecto:"
      ]
    },
    {
      "cell_type": "code",
      "metadata": {
        "id": "k0yiWd-F3TaI"
      },
      "source": [
        "import tensorflow as tf\r\n",
        "print(tf.__version__)"
      ],
      "execution_count": null,
      "outputs": []
    },
    {
      "cell_type": "markdown",
      "metadata": {
        "id": "qwglPDHa3n4m"
      },
      "source": [
        "La librería MNIST se trae directamente por el API de keras"
      ]
    },
    {
      "cell_type": "code",
      "metadata": {
        "id": "0Uvbbj8i3PXT"
      },
      "source": [
        "mnist = tf.keras.datasets.fashion_mnist"
      ],
      "execution_count": null,
      "outputs": []
    },
    {
      "cell_type": "markdown",
      "metadata": {
        "id": "KxoQaDxO3v_n"
      },
      "source": [
        "Traemos los objetos y los cargamos:"
      ]
    },
    {
      "cell_type": "code",
      "metadata": {
        "id": "UVBLYmIB3ySW"
      },
      "source": [
        "(training_images, training_labels), (test_images, test_labels) = mnist.load_data()"
      ],
      "execution_count": null,
      "outputs": []
    },
    {
      "cell_type": "markdown",
      "metadata": {
        "id": "zPi1Frqb32Pr"
      },
      "source": [
        "Veamos ahora algunos ejemplos de cómo lucen estas imágenes:"
      ]
    },
    {
      "cell_type": "code",
      "metadata": {
        "id": "29ACHQLQ3zJz"
      },
      "source": [
        "import numpy as np\r\n",
        "np.set_printoptions(linewidth=200)\r\n",
        "import matplotlib.pyplot as plt\r\n",
        "plt.imshow(training_images[0])\r\n",
        "print(training_labels[0])\r\n",
        "print(training_images[0])"
      ],
      "execution_count": null,
      "outputs": []
    },
    {
      "cell_type": "markdown",
      "metadata": {
        "id": "Gd5rDQlK3-IL"
      },
      "source": [
        "Para hacer más fácil el procesamiento, se normalizarán los datos. Dado que están en la escala de 0 a 255, dividimos por el número mayor:"
      ]
    },
    {
      "cell_type": "code",
      "metadata": {
        "id": "V-L622Wf39zq"
      },
      "source": [
        "training_images  = training_images / 255.0\r\n",
        "test_images = test_images / 255.0"
      ],
      "execution_count": null,
      "outputs": []
    },
    {
      "cell_type": "markdown",
      "metadata": {
        "id": "obRlDuy24QRJ"
      },
      "source": [
        "Ahora, viene el modelo:"
      ]
    },
    {
      "cell_type": "code",
      "metadata": {
        "id": "PCuIJK_e4FXl"
      },
      "source": [
        "model = tf.keras.models.Sequential([tf.keras.layers.Flatten(), \r\n",
        "                                    tf.keras.layers.Dense(128, activation=tf.nn.relu), \r\n",
        "                                    tf.keras.layers.Dense(10, activation=tf.nn.softmax)])"
      ],
      "execution_count": null,
      "outputs": []
    },
    {
      "cell_type": "markdown",
      "metadata": {
        "id": "Anr3sgpb4TX2"
      },
      "source": [
        "Aquí va la explicación:\r\n",
        "\r\n",
        "**Sequential:** That defines a SEQUENCE of layers in the neural network\r\n",
        "\r\n",
        "**Flatten:** Remember earlier where our images were a square, when you printed them out? Flatten just takes that square and turns it into a 1 dimensional set.\r\n",
        "\r\n",
        "**Dense:** Adds a layer of neurons\r\n",
        "\r\n",
        "Each layer of neurons need an activation function to tell them what to do. There's lots of options, but just use these for now.\r\n",
        "\r\n",
        "**Relu** effectively means \"If X>0 return X, else return 0\" -- so what it does it it only passes values 0 or greater to the next layer in the network.\r\n",
        "\r\n",
        "**Softmax** takes a set of values, and effectively picks the biggest one, so, for example, if the output of the last layer looks like [0.1, 0.1, 0.05, 0.1, 9.5, 0.1, 0.05, 0.05, 0.05], it saves you from fishing through it looking for the biggest value, and turns it into [0,0,0,0,1,0,0,0,0] -- The goal is to save a lot of coding!"
      ]
    },
    {
      "cell_type": "code",
      "metadata": {
        "id": "bLRb3Ymg4cf-"
      },
      "source": [
        "model.compile(optimizer = tf.optimizers.Adam(),\r\n",
        "              loss = 'sparse_categorical_crossentropy',\r\n",
        "              metrics=['accuracy'])"
      ],
      "execution_count": null,
      "outputs": []
    },
    {
      "cell_type": "code",
      "metadata": {
        "id": "dXG34T0U44U1"
      },
      "source": [
        "model.fit(training_images, training_labels, epochs=5)"
      ],
      "execution_count": null,
      "outputs": []
    },
    {
      "cell_type": "markdown",
      "metadata": {
        "id": "oChmnicX5GwS"
      },
      "source": [
        "Ahora, tenemos que evaluar el código:"
      ]
    },
    {
      "cell_type": "code",
      "metadata": {
        "id": "D6ROuGYA5JPB"
      },
      "source": [
        "model.evaluate(test_images, test_labels)"
      ],
      "execution_count": null,
      "outputs": []
    },
    {
      "cell_type": "markdown",
      "metadata": {
        "id": "xqPMOs4E5QU6"
      },
      "source": [
        "Ahora, tenemos algunos ejercicios para practicar los conceptos:\r\n",
        "\r\n",
        "**EJERCICIO 1:** Corre la siguiente línea de código y trata de interpretar qué hace."
      ]
    },
    {
      "cell_type": "code",
      "metadata": {
        "id": "y7UFeNN05e-b"
      },
      "source": [
        "classifications = model.predict(test_images)\r\n",
        "\r\n",
        "print(classifications[0])\r\n",
        "print(test_labels[0])"
      ],
      "execution_count": null,
      "outputs": []
    },
    {
      "cell_type": "markdown",
      "metadata": {
        "id": "MvMo1ywX7TWn"
      },
      "source": [
        "**Ejercicio 2:** ¿Qué efecto tendrá cambiar la cantidad de neuronas en el sistema? Cambie en Dense el valor de 512 por 1024 y vea el efecto."
      ]
    },
    {
      "cell_type": "code",
      "metadata": {
        "id": "BXKh7DVt7bmp"
      },
      "source": [
        "import tensorflow as tf\r\n",
        "print(tf.__version__)\r\n",
        "\r\n",
        "mnist = tf.keras.datasets.mnist\r\n",
        "\r\n",
        "(training_images, training_labels) ,  (test_images, test_labels) = mnist.load_data()\r\n",
        "\r\n",
        "training_images = training_images/255.0\r\n",
        "test_images = test_images/255.0\r\n",
        "\r\n",
        "model = tf.keras.models.Sequential([tf.keras.layers.Flatten(),\r\n",
        "                                    tf.keras.layers.Dense(512, activation=tf.nn.relu),\r\n",
        "                                    tf.keras.layers.Dense(10, activation=tf.nn.softmax)])\r\n",
        "\r\n",
        "model.compile(optimizer = 'adam',\r\n",
        "              loss = 'sparse_categorical_crossentropy')\r\n",
        "\r\n",
        "model.fit(training_images, training_labels, epochs=5)\r\n",
        "\r\n",
        "model.evaluate(test_images, test_labels)\r\n",
        "\r\n",
        "classifications = model.predict(test_images)\r\n",
        "\r\n",
        "print(classifications[0])\r\n",
        "print(test_labels[0])"
      ],
      "execution_count": null,
      "outputs": []
    },
    {
      "cell_type": "markdown",
      "metadata": {
        "id": "yomwExno7pXP"
      },
      "source": [
        "**Ejercicio 3:** ¿Qué efecto se tendrá al suprimir Flatten() del modelo?"
      ]
    },
    {
      "cell_type": "markdown",
      "metadata": {
        "id": "d2KACtSX8MVb"
      },
      "source": [
        "**Ejercicio 4:** ¿Qué efecto tiene el 10 en el último layer?"
      ]
    },
    {
      "cell_type": "markdown",
      "metadata": {
        "id": "ML2Cqj7G8i54"
      },
      "source": [
        "**Ejercicio 5:** ¿Qué efecto tendrá añadir un \"hidden layer\" en medio del código? "
      ]
    },
    {
      "cell_type": "code",
      "metadata": {
        "id": "slrw8aeA8Vrn"
      },
      "source": [
        "import tensorflow as tf\r\n",
        "print(tf.__version__)\r\n",
        "\r\n",
        "mnist = tf.keras.datasets.mnist\r\n",
        "\r\n",
        "(training_images, training_labels) ,  (test_images, test_labels) = mnist.load_data()\r\n",
        "\r\n",
        "training_images = training_images/255.0\r\n",
        "test_images = test_images/255.0\r\n",
        "\r\n",
        "model = tf.keras.models.Sequential([tf.keras.layers.Flatten(),\r\n",
        "                                    tf.keras.layers.Dense(512, activation=tf.nn.relu),\r\n",
        "                                    #tf.keras.layers.Dense(256, activation=tf.nn.relu),\r\n",
        "                                    tf.keras.layers.Dense(10, activation=tf.nn.softmax)])\r\n",
        "\r\n",
        "model.compile(optimizer = 'adam',\r\n",
        "              loss = 'sparse_categorical_crossentropy')\r\n",
        "\r\n",
        "model.fit(training_images, training_labels, epochs=5)\r\n",
        "\r\n",
        "model.evaluate(test_images, test_labels)\r\n",
        "\r\n",
        "classifications = model.predict(test_images)\r\n",
        "\r\n",
        "print(classifications[0])\r\n",
        "print(test_labels[0])"
      ],
      "execution_count": null,
      "outputs": []
    },
    {
      "cell_type": "markdown",
      "metadata": {
        "id": "ZaQGd0vF9Mrz"
      },
      "source": [
        "**Ejercicio 6:** ¿Cuál es el impacto de cambiar la cantidad de epochs? Note que llega un punto en donde la pérdida empieza a aumentar; es decir, hay overfitting."
      ]
    },
    {
      "cell_type": "code",
      "metadata": {
        "id": "6c3bCX0D9Zy5"
      },
      "source": [
        "import tensorflow as tf\r\n",
        "print(tf.__version__)\r\n",
        "\r\n",
        "mnist = tf.keras.datasets.mnist\r\n",
        "\r\n",
        "(training_images, training_labels) ,  (test_images, test_labels) = mnist.load_data()\r\n",
        "\r\n",
        "training_images = training_images/255.0\r\n",
        "test_images = test_images/255.0\r\n",
        "\r\n",
        "model = tf.keras.models.Sequential([tf.keras.layers.Flatten(),\r\n",
        "                                    tf.keras.layers.Dense(128, activation=tf.nn.relu),\r\n",
        "                                    tf.keras.layers.Dense(10, activation=tf.nn.softmax)])\r\n",
        "\r\n",
        "model.compile(optimizer = 'adam',\r\n",
        "              loss = 'sparse_categorical_crossentropy')\r\n",
        "\r\n",
        "model.fit(training_images, training_labels, epochs=5)\r\n",
        "\r\n",
        "model.evaluate(test_images, test_labels)\r\n",
        "\r\n",
        "classifications = model.predict(test_images)\r\n",
        "\r\n",
        "print(classifications[34])\r\n",
        "print(test_labels[34])"
      ],
      "execution_count": null,
      "outputs": []
    },
    {
      "cell_type": "markdown",
      "metadata": {
        "id": "e87Lp1oD9_pj"
      },
      "source": [
        "**Ejercicio 7:** ¿Cuál será el efecto de quitar la normalización de los datos? ¿Hay alguna diferencia con el resultado inicial?"
      ]
    },
    {
      "cell_type": "markdown",
      "metadata": {
        "id": "TdiGmPeE-Osf"
      },
      "source": [
        "**Ejercicio 8:** El problema que se presenta cuando hay muchos epochs (overfitting) o cuando se llegó a la precisión deseada mucho antes del total de epochs del programa, se puede solucionar con una función que llamaremos myCallback(). A continuación el código:"
      ]
    },
    {
      "cell_type": "code",
      "metadata": {
        "id": "xdeq21nc-OFP"
      },
      "source": [
        "import tensorflow as tf\r\n",
        "print(tf.__version__)\r\n",
        "\r\n",
        "class myCallback(tf.keras.callbacks.Callback):\r\n",
        "  def on_epoch_end(self, epoch, logs={}):\r\n",
        "    precision = 0.25\r\n",
        "    if(logs.get('loss')<precision):\r\n",
        "      print(\"\\nReached \" + str(precision*100) +\"% accuracy so cancelling training!\")\r\n",
        "      self.model.stop_training = True\r\n",
        "\r\n",
        "callbacks = myCallback()\r\n",
        "mnist = tf.keras.datasets.fashion_mnist\r\n",
        "(training_images, training_labels), (test_images, test_labels) = mnist.load_data()\r\n",
        "training_images=training_images/255.0\r\n",
        "test_images=test_images/255.0\r\n",
        "model = tf.keras.models.Sequential([\r\n",
        "  tf.keras.layers.Flatten(),\r\n",
        "  tf.keras.layers.Dense(512, activation=tf.nn.relu),\r\n",
        "  tf.keras.layers.Dense(10, activation=tf.nn.softmax)\r\n",
        "])\r\n",
        "model.compile(optimizer='adam', loss='sparse_categorical_crossentropy', metrics = ['accuracy'])\r\n",
        "model.fit(training_images, training_labels, epochs=30, callbacks=[callbacks])\r\n"
      ],
      "execution_count": null,
      "outputs": []
    }
  ]
}